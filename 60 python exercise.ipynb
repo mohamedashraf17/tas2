{
 "cells": [
  {
   "cell_type": "markdown",
   "id": "add8e0c4",
   "metadata": {},
   "source": []
  },
  {
   "cell_type": "markdown",
   "id": "759d04ba",
   "metadata": {},
   "source": [
    "**1-Write a Python program to calculate the length of a string using 2 ways"
   ]
  },
  {
   "cell_type": "code",
   "execution_count": 3,
   "id": "e281a250",
   "metadata": {},
   "outputs": [
    {
     "name": "stdout",
     "output_type": "stream",
     "text": [
      "please enter your nameahmed\n",
      "length of string 5\n"
     ]
    }
   ],
   "source": [
    "str= input(\"please enter your name\")\n",
    "x=len(str)\n",
    "print (\"length of string\",x)"
   ]
  },
  {
   "cell_type": "code",
   "execution_count": 50,
   "id": "0f66904b",
   "metadata": {},
   "outputs": [
    {
     "name": "stdout",
     "output_type": "stream",
     "text": [
      "please enter your nameahmed\n",
      "1\n",
      "2\n",
      "3\n",
      "4\n",
      "5\n"
     ]
    }
   ],
   "source": [
    "str=input(\"please enter your name\")\n",
    "y=0\n",
    "for i in str:\n",
    "    y+=1\n",
    "    print(y)"
   ]
  },
  {
   "cell_type": "markdown",
   "id": "d7cc9da7",
   "metadata": {},
   "source": [
    "**2-Write a Python program to get a string made of the first 2 and last 2 characters of a given string. If the string length is less than 2, return the empty string instead (\"##Sample String : 'w3resource'\n",
    "Expected Result : 'w3ce'\n",
    "##Sample String : 'w3'\n",
    "Expected Result : 'w3w3'\n",
    "##Sample String : ' w'\n",
    "Expected Result : Empty String)"
   ]
  },
  {
   "cell_type": "code",
   "execution_count": 11,
   "id": "dafa9dd8",
   "metadata": {},
   "outputs": [
    {
     "name": "stdout",
     "output_type": "stream",
     "text": [
      "please enter your namew\n",
      "emty\n"
     ]
    }
   ],
   "source": [
    "name=input(\"please enter your name\")\n",
    "if len(name)<2:\n",
    "    print(\"emty\")"
   ]
  },
  {
   "cell_type": "markdown",
   "id": "1534f956",
   "metadata": {},
   "source": [
    "**3-Write a Python program to add 'ing' at the end of a given string (length should be at least 3). If the given string already ends with 'ing', add 'ly' instead. If the string length of the given string is less than 3, leave it unchanged. (Sample String : 'abc'\n",
    "Expected Result : 'abcing')"
   ]
  },
  {
   "cell_type": "code",
   "execution_count": 14,
   "id": "7ff8cec4",
   "metadata": {},
   "outputs": [
    {
     "name": "stdout",
     "output_type": "stream",
     "text": [
      "please enter your nameahmed\n",
      "ahmeding\n"
     ]
    }
   ],
   "source": [
    "name=input(\"please enter your name\")\n",
    "if (len(name)<3):\n",
    "    print (\"welcome\",name)\n",
    "elif(len(name)>3 and name[:-3]==\"ing\"):\n",
    "    print(name+\"ly\")\n",
    "else:\n",
    "    print(name+\"ing\")\n",
    "    "
   ]
  },
  {
   "cell_type": "markdown",
   "id": "1c0a6627",
   "metadata": {},
   "source": [
    "**4-Write a Python function that takes a list of words and return the longest word and the length of the longest one\n",
    "(Longest word: Exercises\n",
    "Length of the longest word: 9)"
   ]
  },
  {
   "cell_type": "code",
   "execution_count": 21,
   "id": "397341d9",
   "metadata": {},
   "outputs": [
    {
     "name": "stdout",
     "output_type": "stream",
     "text": [
      "Longest string: ahmed\n",
      "Length of the longest string: 5\n"
     ]
    }
   ],
   "source": [
    "lst = [\"ahmed\", \"ali\", \"zain\", \"reem\"]\n",
    "length = 0\n",
    "\n",
    "for s in lst:\n",
    "    if len(s) > length:\n",
    "        longest_str = s\n",
    "        length = len(s)\n",
    "\n",
    "print(\"Longest string:\", longest_str)\n",
    "print(\"Length of the longest string:\", length)"
   ]
  },
  {
   "cell_type": "markdown",
   "id": "53a03a6a",
   "metadata": {},
   "source": [
    "**5-Write a Python program to change a given string to a newly string where the first and last chars have been exchanged using 2 ways (Sample String:abca  Expected Result:ebce)"
   ]
  },
  {
   "cell_type": "code",
   "execution_count": 33,
   "id": "fd327d2a",
   "metadata": {},
   "outputs": [
    {
     "data": {
      "text/plain": [
       "5"
      ]
     },
     "execution_count": 33,
     "metadata": {},
     "output_type": "execute_result"
    }
   ],
   "source": [
    "str=\"ahmed\"\n",
    "len(str)\n"
   ]
  },
  {
   "cell_type": "code",
   "execution_count": 34,
   "id": "285788b4",
   "metadata": {},
   "outputs": [
    {
     "data": {
      "text/plain": [
       "'dhmeda'"
      ]
     },
     "execution_count": 34,
     "metadata": {},
     "output_type": "execute_result"
    }
   ],
   "source": [
    "str[-1]+str[1:]+str[0]"
   ]
  },
  {
   "cell_type": "markdown",
   "id": "25f89808",
   "metadata": {},
   "source": [
    "**6-Write a Python program to remove characters that have odd index values in a given string (Sample String:abca Expected Result:ac)"
   ]
  },
  {
   "cell_type": "code",
   "execution_count": 44,
   "id": "05959bd7",
   "metadata": {},
   "outputs": [
    {
     "name": "stdout",
     "output_type": "stream",
     "text": [
      "m\n",
      "h\n",
      "a\n",
      "d\n"
     ]
    }
   ],
   "source": [
    "str=\"mohmaed\"\n",
    "len(str)\n",
    "for i in str[0:7:2]:\n",
    "    print(i)"
   ]
  },
  {
   "cell_type": "markdown",
   "id": "eb16e898",
   "metadata": {},
   "source": [
    "**7-Write a Python program to count the occurrences of each word in a given sentence (Sample String:amr and ahmed are frindes but amr is the tallest Expected Result:2)"
   ]
  },
  {
   "cell_type": "code",
   "execution_count": 50,
   "id": "01ce6cf5",
   "metadata": {},
   "outputs": [],
   "source": [
    "str=\"amr and ahmed are frindes but amr is the tallest\"\n",
    "words=str.split()\n",
    "s=set()\n",
    "for word in words:\n",
    "    s.add((word,str.count(word)))\n",
    "    s"
   ]
  },
  {
   "cell_type": "markdown",
   "id": "4e8125f1",
   "metadata": {},
   "source": [
    "**8-Write a Python script that takes input from the user and displays that input back in upper and lower cases"
   ]
  },
  {
   "cell_type": "code",
   "execution_count": 135,
   "id": "66c8f778",
   "metadata": {},
   "outputs": [
    {
     "name": "stdout",
     "output_type": "stream",
     "text": [
      "please enter your nameahmed\n",
      "AHMED\n",
      "ahmed\n"
     ]
    }
   ],
   "source": [
    "name=input(\"please enter your name\")\n",
    "print(name.upper())\n",
    "print(name.lower())"
   ]
  },
  {
   "cell_type": "markdown",
   "id": "fcd68aa1",
   "metadata": {},
   "source": [
    "**9-Write a Python function to reverse a string if its length is a multiple of 4"
   ]
  },
  {
   "cell_type": "code",
   "execution_count": 138,
   "id": "0671a931",
   "metadata": {},
   "outputs": [
    {
     "name": "stdout",
     "output_type": "stream",
     "text": [
      "please enter your nameemad\n",
      "dame\n"
     ]
    }
   ],
   "source": [
    "str=input(\"please enter your name\")\n",
    "if len(str)%4==0:\n",
    "    name=str[::-1]\n",
    "    print(name)"
   ]
  },
  {
   "cell_type": "markdown",
   "id": "b577c68d",
   "metadata": {},
   "source": [
    "**10- Write a Python program to remove a newline in Python"
   ]
  },
  {
   "cell_type": "code",
   "execution_count": 143,
   "id": "e0c6525a",
   "metadata": {},
   "outputs": [
    {
     "name": "stdout",
     "output_type": "stream",
     "text": [
      "ahmed is the best/\n",
      "my name is ahmed/\n",
      "i am 16 years old/\n"
     ]
    }
   ],
   "source": [
    "str=\"\"\"ahmed is the best/\n",
    "my name is ahmed/\n",
    "i am 16 years old/\"\"\"\n",
    "print(str)\n"
   ]
  },
  {
   "cell_type": "code",
   "execution_count": 144,
   "id": "389a1dcd",
   "metadata": {},
   "outputs": [
    {
     "name": "stdout",
     "output_type": "stream",
     "text": [
      "ahmed is the best\n",
      "my name is ahmed\n",
      "i am 16 years old\n"
     ]
    }
   ],
   "source": [
    "print(str.replace(\"/\",\"\"))"
   ]
  },
  {
   "cell_type": "markdown",
   "id": "80db5ae0",
   "metadata": {},
   "source": [
    "**11-Write a Python program to check whether a string starts with specified characters"
   ]
  },
  {
   "cell_type": "code",
   "execution_count": 146,
   "id": "0cc4e03e",
   "metadata": {},
   "outputs": [
    {
     "name": "stdout",
     "output_type": "stream",
     "text": [
      "please enter your nameahmed\n",
      "okay\n"
     ]
    }
   ],
   "source": [
    "name=input(\"please enter your name\")\n",
    "if name[0]==\"a\":\n",
    "    print(\"okay\")\n",
    "else:\n",
    "    print(\"not okay\")"
   ]
  },
  {
   "cell_type": "markdown",
   "id": "593a68db",
   "metadata": {},
   "source": [
    "**12- Write a Python program to add prefix text to all of the lines in a string"
   ]
  },
  {
   "cell_type": "code",
   "execution_count": 158,
   "id": "d2e46ada",
   "metadata": {},
   "outputs": [
    {
     "name": "stdout",
     "output_type": "stream",
     "text": [
      "ahmed is the best\n",
      "my name is ahmed\n",
      "i am 16 years old\n"
     ]
    }
   ],
   "source": [
    "string=\"\"\"ahmed is the best\n",
    "my name is ahmed\n",
    "i am 16 years old\"\"\"\n",
    "print(string)\n"
   ]
  },
  {
   "cell_type": "code",
   "execution_count": 159,
   "id": "2110a820",
   "metadata": {},
   "outputs": [
    {
     "ename": "AttributeError",
     "evalue": "'str' object has no attribute 'splitline'",
     "output_type": "error",
     "traceback": [
      "\u001b[1;31m---------------------------------------------------------------------------\u001b[0m",
      "\u001b[1;31mAttributeError\u001b[0m                            Traceback (most recent call last)",
      "Cell \u001b[1;32mIn[159], line 1\u001b[0m\n\u001b[1;32m----> 1\u001b[0m spelines\u001b[38;5;241m=\u001b[39mstring\u001b[38;5;241m.\u001b[39msplitline()\n",
      "\u001b[1;31mAttributeError\u001b[0m: 'str' object has no attribute 'splitline'"
     ]
    }
   ],
   "source": [
    "spelines=string.splitline()"
   ]
  },
  {
   "cell_type": "markdown",
   "id": "86fa1543",
   "metadata": {},
   "source": [
    "**13-Write a Python program to print the following numbers up to 2 decimal places"
   ]
  },
  {
   "cell_type": "code",
   "execution_count": 160,
   "id": "cd4a9d89",
   "metadata": {},
   "outputs": [
    {
     "name": "stdout",
     "output_type": "stream",
     "text": [
      "1.33\n"
     ]
    }
   ],
   "source": [
    "number=1.333333\n",
    "print(round(number,2))"
   ]
  },
  {
   "cell_type": "markdown",
   "id": "452c0ab0",
   "metadata": {},
   "source": [
    "**14-Write a Python program to print the following numbers up to 2 decimal places with a sign"
   ]
  },
  {
   "cell_type": "code",
   "execution_count": 36,
   "id": "73e82479",
   "metadata": {},
   "outputs": [
    {
     "name": "stdout",
     "output_type": "stream",
     "text": [
      "1.33\n",
      "-4.33\n",
      "2.33\n",
      "-1.33\n"
     ]
    }
   ],
   "source": [
    "number=[1.333,-4.333,2.333,-1.333]\n",
    "for i in number:\n",
    "    print(round(i,2))"
   ]
  },
  {
   "cell_type": "markdown",
   "id": "32b1811a",
   "metadata": {},
   "source": [
    "**15-Write a Python program to display a number with a comma separator"
   ]
  },
  {
   "cell_type": "code",
   "execution_count": null,
   "id": "f30fc0b6",
   "metadata": {},
   "outputs": [],
   "source": []
  },
  {
   "cell_type": "markdown",
   "id": "0477f487",
   "metadata": {},
   "source": [
    "**16-Write a Python program to reverse a string using 2 ways"
   ]
  },
  {
   "cell_type": "code",
   "execution_count": 161,
   "id": "aa8beec8",
   "metadata": {},
   "outputs": [
    {
     "name": "stdout",
     "output_type": "stream",
     "text": [
      "demha\n"
     ]
    }
   ],
   "source": [
    "str=\"ahmed\"\n",
    "print(str[::-1])"
   ]
  },
  {
   "cell_type": "code",
   "execution_count": 172,
   "id": "01cfa870",
   "metadata": {},
   "outputs": [
    {
     "name": "stdout",
     "output_type": "stream",
     "text": [
      "demha"
     ]
    }
   ],
   "source": [
    "for i in range(len(str)-1,-1,-1):\n",
    "    print(str[i],end=\"\")\n",
    "\n"
   ]
  },
  {
   "cell_type": "markdown",
   "id": "5afc3166",
   "metadata": {},
   "source": [
    " **17-Write a Python program to count repeated characters in a string (hint:use dictionary)"
   ]
  },
  {
   "cell_type": "code",
   "execution_count": 177,
   "id": "515a469c",
   "metadata": {},
   "outputs": [
    {
     "name": "stdout",
     "output_type": "stream",
     "text": [
      "{'a': 1}\n",
      "{'a': 1, 'h': 1}\n",
      "{'a': 1, 'h': 1, 'm': 1}\n",
      "{'a': 1, 'h': 1, 'm': 1, 'e': 1}\n",
      "{'a': 1, 'h': 1, 'm': 1, 'e': 1, 'd': 1}\n",
      "{'a': 2, 'h': 2, 'm': 1, 'e': 1, 'd': 1, 'f': 1}\n",
      "{'a': 2, 'h': 2, 'm': 1, 'e': 2, 'd': 1, 'f': 1, 'z': 1}\n"
     ]
    }
   ],
   "source": [
    "word=\"ahmedhafez\"\n",
    "count=dict()\n",
    "for i in word:\n",
    "    if i in count:\n",
    "        count[i]+=1\n",
    "    else:\n",
    "        count[i]=1\n",
    "        print(count)"
   ]
  },
  {
   "cell_type": "markdown",
   "id": "ae14e4e5",
   "metadata": {},
   "source": [
    "**18-Write a Python program to find the first non-repeating character in a given string"
   ]
  },
  {
   "cell_type": "code",
   "execution_count": 180,
   "id": "d73778e5",
   "metadata": {},
   "outputs": [
    {
     "name": "stdout",
     "output_type": "stream",
     "text": [
      "d\n"
     ]
    }
   ],
   "source": [
    "name=\"aaaabbbbccccd\"\n",
    "for i in name:\n",
    "    if name.count(i)==1:\n",
    "        print(i)"
   ]
  },
  {
   "cell_type": "markdown",
   "id": "3adf5669",
   "metadata": {},
   "source": [
    "**19-Write a Python program to remove spaces from a given string"
   ]
  },
  {
   "cell_type": "code",
   "execution_count": 189,
   "id": "b4f22602",
   "metadata": {},
   "outputs": [
    {
     "name": "stdout",
     "output_type": "stream",
     "text": [
      "ahmedhafez\n"
     ]
    }
   ],
   "source": [
    "name=\"ahmed hafez\"\n",
    "print(name.replace(\" \",\"\"))"
   ]
  },
  {
   "cell_type": "markdown",
   "id": "734de60c",
   "metadata": {},
   "source": [
    "**20-Write a Python program to count the number of non-empty substrings of a given string"
   ]
  },
  {
   "cell_type": "code",
   "execution_count": null,
   "id": "ef3f2274",
   "metadata": {},
   "outputs": [],
   "source": []
  },
  {
   "cell_type": "markdown",
   "id": "509998e2",
   "metadata": {},
   "source": [
    "**21-write a Python program to swap first and last element of any list."
   ]
  },
  {
   "cell_type": "code",
   "execution_count": 39,
   "id": "68692d7f",
   "metadata": {},
   "outputs": [
    {
     "data": {
      "text/plain": [
       "(5, 2, 3, 4, 1)"
      ]
     },
     "execution_count": 39,
     "metadata": {},
     "output_type": "execute_result"
    }
   ],
   "source": [
    "l=[1,2,3,4,5]\n",
    "l1=l[4],l[1],l[2],l[3],l[0]\n",
    "l1"
   ]
  },
  {
   "cell_type": "markdown",
   "id": "959e0837",
   "metadata": {},
   "source": [
    "**22-Given a list in Python and provided the positions of the elements, write a program to swap the two elements in the list. (Input : List = [23, 65, 19, 90], pos1 = 1, pos2 = 3\n",
    "Output : [19, 65, 23, 90])"
   ]
  },
  {
   "cell_type": "code",
   "execution_count": 33,
   "id": "225d8c6d",
   "metadata": {
    "scrolled": true
   },
   "outputs": [
    {
     "data": {
      "text/plain": [
       "[19, 65, 23, 90]"
      ]
     },
     "execution_count": 33,
     "metadata": {},
     "output_type": "execute_result"
    }
   ],
   "source": [
    "l=[23,65,19,90]\n",
    "l.sort()\n",
    "l=[l[0],l[2],l[1],l[3]]\n",
    "l\n",
    "\n",
    "\n",
    "\n"
   ]
  },
  {
   "cell_type": "markdown",
   "id": "66fc6682",
   "metadata": {},
   "source": [
    "**23- search for the all ways to know the length of the list"
   ]
  },
  {
   "cell_type": "code",
   "execution_count": null,
   "id": "63ff8b43",
   "metadata": {},
   "outputs": [],
   "source": [
    "**24-write a Python code to find the Maximum number of list of numbers."
   ]
  },
  {
   "cell_type": "code",
   "execution_count": 42,
   "id": "15f342de",
   "metadata": {},
   "outputs": [
    {
     "name": "stdout",
     "output_type": "stream",
     "text": [
      "The maximum number is: 6\n"
     ]
    }
   ],
   "source": [
    "\n",
    "l = [1, 2, 3, 4, 5, 6]\n",
    "greater = 0\n",
    "\n",
    "for i in l:\n",
    "    if i > greater:\n",
    "        greater = i\n",
    "\n",
    "print(\"The maximum number is:\", greater)    "
   ]
  },
  {
   "cell_type": "code",
   "execution_count": null,
   "id": "1a89b9d3",
   "metadata": {},
   "outputs": [],
   "source": [
    "**25-write a Python code to find the Minimum number of list of numbers."
   ]
  },
  {
   "cell_type": "code",
   "execution_count": 46,
   "id": "21f8cbd6",
   "metadata": {},
   "outputs": [
    {
     "name": "stdout",
     "output_type": "stream",
     "text": [
      "The minimum number is: 1\n"
     ]
    }
   ],
   "source": [
    "l = [1, 2, 3, 4, 5, 6]\n",
    "min_number = l[0] \n",
    "for i in l:\n",
    "    if i < min_number:\n",
    "        min_number = i\n",
    "\n",
    "print(\"The minimum number is:\", min_number)\n",
    "    "
   ]
  },
  {
   "cell_type": "markdown",
   "id": "96822d96",
   "metadata": {},
   "source": [
    "**26-search for if an elem is existing in list"
   ]
  },
  {
   "cell_type": "code",
   "execution_count": 49,
   "id": "51ca5c9a",
   "metadata": {},
   "outputs": [
    {
     "data": {
      "text/plain": [
       "2"
      ]
     },
     "execution_count": 49,
     "metadata": {},
     "output_type": "execute_result"
    }
   ],
   "source": [
    "l=[1,2,3,4,5,6]\n",
    "l.index(3)\n"
   ]
  },
  {
   "cell_type": "code",
   "execution_count": 58,
   "id": "d792c2b6",
   "metadata": {},
   "outputs": [
    {
     "name": "stdout",
     "output_type": "stream",
     "text": [
      "please enter your number3\n",
      "The number you want it in 2\n"
     ]
    }
   ],
   "source": [
    "number=int(input(\"please enter your number\"))\n",
    "for i in range(len(l)):\n",
    "    if(l[i]==number):\n",
    "        print(\"The number you want it in\",i )"
   ]
  },
  {
   "cell_type": "markdown",
   "id": "d9557da7",
   "metadata": {},
   "source": [
    "**27- clear python list using different ways"
   ]
  },
  {
   "cell_type": "code",
   "execution_count": 61,
   "id": "b69858a3",
   "metadata": {},
   "outputs": [
    {
     "data": {
      "text/plain": [
       "[1, 2, 3, 4, 5]"
      ]
     },
     "execution_count": 61,
     "metadata": {},
     "output_type": "execute_result"
    }
   ],
   "source": [
    "l=[1,2,3,4,5,6]\n",
    "l.remove(6)\n",
    "l"
   ]
  },
  {
   "cell_type": "code",
   "execution_count": 64,
   "id": "2add17f7",
   "metadata": {},
   "outputs": [
    {
     "data": {
      "text/plain": [
       "5"
      ]
     },
     "execution_count": 64,
     "metadata": {},
     "output_type": "execute_result"
    }
   ],
   "source": [
    "l.pop()"
   ]
  },
  {
   "cell_type": "code",
   "execution_count": 65,
   "id": "5a744d21",
   "metadata": {},
   "outputs": [
    {
     "data": {
      "text/plain": [
       "[1, 2, 3, 4]"
      ]
     },
     "execution_count": 65,
     "metadata": {},
     "output_type": "execute_result"
    }
   ],
   "source": [
    "l"
   ]
  },
  {
   "cell_type": "markdown",
   "id": "52160e88",
   "metadata": {},
   "source": [
    "**28-remove duplicated elements from a list"
   ]
  },
  {
   "cell_type": "code",
   "execution_count": 66,
   "id": "5e362228",
   "metadata": {},
   "outputs": [
    {
     "data": {
      "text/plain": [
       "{1, 2, 3, 4, 5, 6, 7}"
      ]
     },
     "execution_count": 66,
     "metadata": {},
     "output_type": "execute_result"
    }
   ],
   "source": [
    "l=[1,2,3,4,5,6,7,7,7,7]\n",
    "set(l)"
   ]
  },
  {
   "cell_type": "markdown",
   "id": "282337f7",
   "metadata": {},
   "source": [
    "**29-Given list values and keys list, convert these values to key value pairs in form of list of dictionaries. (Input : test_list = [“Gfg”, 3, “is”, 8], key_list = [“name”, “id”]\n",
    "Output : [{‘name’: ‘Gfg’, ‘id’: 3}, {‘name’: ‘is’, ‘id’: 8}])"
   ]
  },
  {
   "cell_type": "code",
   "execution_count": 40,
   "id": "4d4e2d28",
   "metadata": {},
   "outputs": [
    {
     "name": "stdout",
     "output_type": "stream",
     "text": [
      "[{'name': 'Gfg', 'id': 3}, {'name': 'is', 'id': 8}]\n"
     ]
    }
   ],
   "source": [
    "def convert_to_key_value_pairs(values_list, keys_list):\n",
    "    \n",
    "    if len(values_list) % len(keys_list) != 0:\n",
    "        raise ValueError(\"The number of elements in the values list must be divisible by the number of elements\n",
    "                         in the keys list.\")\n",
    "\n",
    "    \n",
    "    num_dicts = len(values_list) // len(keys_list)\n",
    "\n",
    "    \n",
    "    result = [{keys_list[i]: values_list[i + j] for i in range(len(keys_list))} for j in range(0, len(values_list),\n",
    "                                                                                               len(keys_list))]\n",
    "\n",
    "    return result\n",
    "\n",
    "\n",
    "test_list = [\"Gfg\", 3, \"is\", 8]\n",
    "key_list = [\"name\", \"id\"]\n",
    "\n",
    "output = convert_to_key_value_pairs(test_list, key_list)\n",
    "print(output)"
   ]
  },
  {
   "cell_type": "markdown",
   "id": "c26b6e9f",
   "metadata": {},
   "source": [
    "**30-write a python program to count unique values inside a list using different ways"
   ]
  },
  {
   "cell_type": "code",
   "execution_count": 72,
   "id": "72132667",
   "metadata": {},
   "outputs": [
    {
     "name": "stdout",
     "output_type": "stream",
     "text": [
      "5\n"
     ]
    }
   ],
   "source": [
    "def count_unique_using_dict(input_list):\n",
    "    unique_counts = {}\n",
    "    for item in input_list:\n",
    "        unique_counts[item] = unique_counts.get(item, 0) + 1\n",
    "    return len(unique_counts)\n",
    "my_list = [1, 2, 3, 2, 4, 5, 3]\n",
    "print(count_unique_using_dict(my_list))"
   ]
  },
  {
   "cell_type": "markdown",
   "id": "fed6677c",
   "metadata": {},
   "source": [
    "**31-write a python program Extract all elements with Frequency greater than K (Input : test_list = [4, 6, 4, 3, 3, 4, 3, 4, 3, 8], K = 3 \n",
    "Output : [4, 3] )"
   ]
  },
  {
   "cell_type": "code",
   "execution_count": 97,
   "id": "d81f3f9d",
   "metadata": {},
   "outputs": [
    {
     "name": "stdout",
     "output_type": "stream",
     "text": [
      "[4, 3]\n"
     ]
    }
   ],
   "source": [
    "test_list = [4, 6, 4, 3, 3, 4, 3, 4, 3, 8]\n",
    "K = 3\n",
    "element_counts = {}\n",
    "for element in test_list:\n",
    "    if element in element_counts:\n",
    "        element_counts[element] += 1\n",
    "    else:\n",
    "        element_counts[element] = 1\n",
    "\n",
    "result_list = [element for element, count in element_counts.items() if count > K]\n",
    "\n",
    "print(result_list)\n"
   ]
  },
  {
   "cell_type": "markdown",
   "id": "caca5224",
   "metadata": {},
   "source": [
    "**32-write a python program to find the Strongest Neighbour (Input: 1 2 2 3 4 5\n",
    "Output: 2 2 3 4 5)"
   ]
  },
  {
   "cell_type": "code",
   "execution_count": 99,
   "id": "39fbd9b2",
   "metadata": {},
   "outputs": [
    {
     "name": "stdout",
     "output_type": "stream",
     "text": [
      "[2, 2, 3, 4, 5, 5]\n"
     ]
    }
   ],
   "source": [
    "input_list = [1, 2, 2, 3, 4, 5]\n",
    "n = len(input_list)\n",
    "\n",
    "if n == 0:\n",
    "    strongest_neighbours = []\n",
    "else:\n",
    "    strongest_neighbours = []\n",
    "\n",
    "    for i in range(n):\n",
    "        if i == 0:\n",
    "            strongest_neighbours.append(max(input_list[i], input_list[i + 1]))\n",
    "        elif i == n - 1:\n",
    "            strongest_neighbours.append(max(input_list[i], input_list[i - 1]))\n",
    "        else:\n",
    "            strongest_neighbours.append(max(input_list[i - 1], input_list[i], input_list[i + 1]))\n",
    "\n",
    "print(strongest_neighbours)\n"
   ]
  },
  {
   "cell_type": "markdown",
   "id": "a9fa8baf",
   "metadata": {},
   "source": [
    "**33-write a Python Program to print all Possible Combinations from the three Digits (Input: [1, 2, 3]\n",
    "Output:\n",
    "1 2 3 ##\n",
    "1 3 2 ##\n",
    "2 1 3 ##\n",
    "2 3 1 ##\n",
    "3 1 2 ##\n",
    "3 2 1)"
   ]
  },
  {
   "cell_type": "code",
   "execution_count": 100,
   "id": "8c520a76",
   "metadata": {},
   "outputs": [
    {
     "name": "stdout",
     "output_type": "stream",
     "text": [
      "1 2 3\n",
      "1 3 2\n",
      "2 1 3\n",
      "2 3 1\n",
      "3 1 2\n",
      "3 2 1\n"
     ]
    }
   ],
   "source": [
    "digits = [1, 2, 3]\n",
    "\n",
    "for i in digits:\n",
    "    for j in digits:\n",
    "        if j != i:\n",
    "            for k in digits:\n",
    "                if k != i and k != j:\n",
    "                    print(i, j, k)"
   ]
  },
  {
   "cell_type": "markdown",
   "id": "5288bb89",
   "metadata": {},
   "source": [
    "**34-write a Python program to find all the Combinations in the list with the given condition (Input: test_list = [1,2,3] \n",
    "Output: \n",
    " [1], [1, 2], [1, 2, 3], [1, 3]\n",
    " [2], [2, 3], [3])"
   ]
  },
  {
   "cell_type": "code",
   "execution_count": 101,
   "id": "59b89646",
   "metadata": {},
   "outputs": [
    {
     "name": "stdout",
     "output_type": "stream",
     "text": [
      "[1]\n",
      "[1, 2]\n",
      "[1, 2, 3]\n",
      "[2]\n",
      "[2, 3]\n",
      "[3]\n"
     ]
    }
   ],
   "source": [
    "test_list = [1, 2, 3]\n",
    "\n",
    "for i in range(len(test_list)):\n",
    "    for j in range(i, len(test_list)):\n",
    "        print(test_list[i:j+1])"
   ]
  },
  {
   "cell_type": "markdown",
   "id": "39973705",
   "metadata": {},
   "source": [
    "**35-write a Python program to get all unique combinations of two Lists (List_1 = [\"a\",\"b\"]\n",
    "List_2 = [1,2]\n",
    "Unique_combination = [[('a',1),('b',2)],[('a',2),('b',1)]] )"
   ]
  },
  {
   "cell_type": "code",
   "execution_count": 102,
   "id": "8c4ba22b",
   "metadata": {},
   "outputs": [
    {
     "name": "stdout",
     "output_type": "stream",
     "text": [
      "[[('a', 1), (1, 'a')], [('a', 2), (2, 'a')], [('b', 1), (1, 'b')], [('b', 2), (2, 'b')]]\n"
     ]
    }
   ],
   "source": [
    "List_1 = [\"a\", \"b\"]\n",
    "List_2 = [1, 2]\n",
    "\n",
    "unique_combination = []\n",
    "\n",
    "for elem1 in List_1:\n",
    "    for elem2 in List_2:\n",
    "        combination = [(elem1, elem2), (elem2, elem1)]\n",
    "        if combination not in unique_combination:\n",
    "            unique_combination.append(combination)\n",
    "\n",
    "print(unique_combination)"
   ]
  },
  {
   "cell_type": "markdown",
   "id": "25199af5",
   "metadata": {},
   "source": [
    "**36-Remove all the occurrences of an element from a list in Python (Input : 1 1 2 3 4 5 1 2 1 \n",
    "\n",
    "**Output : 2 3 4 5 2)"
   ]
  },
  {
   "cell_type": "code",
   "execution_count": 113,
   "id": "6dc4c2ba",
   "metadata": {},
   "outputs": [
    {
     "name": "stdout",
     "output_type": "stream",
     "text": [
      "2\n",
      "3\n",
      "4\n",
      "5\n",
      "2\n"
     ]
    }
   ],
   "source": [
    "input_list = [1, 1, 2, 3, 4, 5, 1, 2, 1]\n",
    "target_element = 1\n",
    "\n",
    "for element in input_list:\n",
    "               if element != target_element:\n",
    "                print(element)\n"
   ]
  },
  {
   "cell_type": "markdown",
   "id": "bf1a3c93",
   "metadata": {},
   "source": [
    "**37-write a python program to Replace index elements with elements in Other List (The original list 1 is : [‘Gfg’, ‘is’, ‘best’] The original list 2 is : [0, 1, 2, 1, 0, 0, 0, 2, 1, 1, 2, 0] The lists after index elements replacements is : [‘Gfg’, ‘is’, ‘best’, ‘is’, ‘Gfg’, ‘Gfg’, ‘Gfg’, ‘best’, ‘is’, ‘is’, ‘best’, ‘Gfg’])"
   ]
  },
  {
   "cell_type": "code",
   "execution_count": 41,
   "id": "fdd66a71",
   "metadata": {},
   "outputs": [
    {
     "name": "stdout",
     "output_type": "stream",
     "text": [
      "The lists after index elements replacements are: ['best', 'Gfg', 'is']\n"
     ]
    }
   ],
   "source": [
    "\n",
    "list1 = ['Gfg', 'is', 'best']\n",
    "list2 = [0, 1, 2, 1, 0, 0, 0, 2, 1, 1, 2, 0]\n",
    "\n",
    "\n",
    "result_list = list1[:]\n",
    "\n",
    "\n",
    "for i in range(len(list2)):\n",
    "    result_list[list2[i]] = list1[i % len(list1)]\n",
    "\n",
    "\n",
    "print(\"The lists after index elements replacements are:\", result_list)\n"
   ]
  },
  {
   "cell_type": "markdown",
   "id": "af0f56e8",
   "metadata": {},
   "source": [
    "**38- write python program to Retain records with N occurrences of K(Input : test_list = [(4, 5, 5, 4), (5, 4, 3)], K = 5, N = 2 \n",
    "Output : [(4, 5, 5, 4)]\n",
    "Input : test_list = [(4, 5, 5, 4), (5, 4, 3)], K = 5, N = 3 \n",
    "Output : [] )"
   ]
  },
  {
   "cell_type": "code",
   "execution_count": 114,
   "id": "67b06671",
   "metadata": {},
   "outputs": [
    {
     "name": "stdout",
     "output_type": "stream",
     "text": [
      "[(4, 5, 5, 4)]\n"
     ]
    }
   ],
   "source": [
    "test_list = [(4, 5, 5, 4), (5, 4, 3)]\n",
    "K = 5\n",
    "N = 2\n",
    "\n",
    "result_list = [record for record in test_list if record.count(K) == N]\n",
    "\n",
    "print(result_list)\n"
   ]
  },
  {
   "cell_type": "markdown",
   "id": "de76f183",
   "metadata": {},
   "source": [
    "**39-write a Python Program to Sort the list according to the column using lambda\n",
    "array = [[1, 3, 3], [2, 1, 2], [3, 2, 1]]\n",
    "Output :\n",
    "Sorted array specific to column 0, [[1, 3, 3], [2, 1, 2], [3, 2, 1]]\n",
    "Sorted array specific to column 1, [[2, 1, 2], [3, 2, 1], [1, 3, 3]]\n",
    "Sorted array specific to column 2, [[3, 2, 1], [2, 1, 2], [1, 3, 3]]"
   ]
  },
  {
   "cell_type": "code",
   "execution_count": 42,
   "id": "dc883308",
   "metadata": {},
   "outputs": [
    {
     "name": "stdout",
     "output_type": "stream",
     "text": [
      "Sorted array specific to column 0, [[1, 3, 3], [2, 1, 2], [3, 2, 1]]\n",
      "Sorted array specific to column 1, [[2, 1, 2], [3, 2, 1], [1, 3, 3]]\n",
      "Sorted array specific to column 2, [[3, 2, 1], [2, 1, 2], [1, 3, 3]]\n"
     ]
    }
   ],
   "source": [
    "array = [[1, 3, 3], [2, 1, 2], [3, 2, 1]]\n",
    "\n",
    "\n",
    "def sort_by_column(arr, column):\n",
    "    return sorted(arr, key=lambda x: x[column])\n",
    "\n",
    "\n",
    "for col in range(len(array[0])):\n",
    "    sorted_array = sort_by_column(array, col)\n",
    "    print(f\"Sorted array specific to column {col}, {sorted_array}\")\n"
   ]
  },
  {
   "cell_type": "code",
   "execution_count": null,
   "id": "d2e7b31f",
   "metadata": {},
   "outputs": [],
   "source": [
    "**40- write a program to Sort Python Dictionaries by Key or Value\n",
    "Input:\n",
    "{'ravi': 10, 'rajnish': 9, 'sanjeev': 15, 'yash': 2, 'suraj': 32}\n",
    "\n",
    "Output: \n",
    "{'rajnish': 9, 'ravi': 10, 'sanjeev': 15, 'suraj': 32, 'yash': 2}"
   ]
  },
  {
   "cell_type": "code",
   "execution_count": 43,
   "id": "a96db4a0",
   "metadata": {},
   "outputs": [
    {
     "name": "stdout",
     "output_type": "stream",
     "text": [
      "Sorted by key: {'rajnish': 9, 'ravi': 10, 'sanjeev': 15, 'suraj': 32, 'yash': 2}\n",
      "Sorted by value: {'yash': 2, 'rajnish': 9, 'ravi': 10, 'sanjeev': 15, 'suraj': 32}\n"
     ]
    }
   ],
   "source": [
    "def sort_dict_by_key(input_dict):\n",
    "    sorted_items = []\n",
    "    for key in sorted(input_dict.keys()):\n",
    "        sorted_items.append((key, input_dict[key]))\n",
    "    return dict(sorted_items)\n",
    "\n",
    "def sort_dict_by_value(input_dict):\n",
    "    sorted_items = []\n",
    "    for key, value in sorted(input_dict.items(), key=lambda x: x[1]):\n",
    "        sorted_items.append((key, value))\n",
    "    return dict(sorted_items)\n",
    "\n",
    "\n",
    "input_dict = {'ravi': 10, 'rajnish': 9, 'sanjeev': 15, 'yash': 2, 'suraj': 32}\n",
    "\n",
    "sorted_by_key = sort_dict_by_key(input_dict)\n",
    "print(\"Sorted by key:\", sorted_by_key)\n",
    "\n",
    "\n",
    "sorted_by_value = sort_dict_by_value(input_dict)\n",
    "print(\"Sorted by value:\", sorted_by_value)\n"
   ]
  },
  {
   "cell_type": "markdown",
   "id": "ec63c23a",
   "metadata": {},
   "source": [
    "**41-write python program to Remove keys with Values Greater than K ( Including mixed values )\n",
    "nput : test_dict = {‘Gfg’ : 3, ‘is’ : 7, ‘best’ : 10, ‘for’ : 6, ‘geeks’ : ‘CS’},\n",
    "K = 7 \n",
    "Output : {‘Gfg’ : 3, ‘for’ : 6, ‘geeks’ : ‘CS’}"
   ]
  },
  {
   "cell_type": "code",
   "execution_count": 44,
   "id": "e39c3a40",
   "metadata": {},
   "outputs": [
    {
     "name": "stdout",
     "output_type": "stream",
     "text": [
      "{'Gfg': 3, 'is': 7, 'for': 6, 'geeks': 'CS'}\n"
     ]
    }
   ],
   "source": [
    "test_dict = {'Gfg': 3, 'is': 7, 'best': 10, 'for': 6, 'geeks': 'CS'}\n",
    "K = 7\n",
    "\n",
    "\n",
    "result_dict = {key: value \n",
    "               for key, value in test_dict.items() if (isinstance(value, int) and value <= K) or (isinstance(value, str))}\n",
    "\n",
    "\n",
    "result_dict = {}\n",
    "for key, value in test_dict.items():\n",
    "    if (isinstance(value, int) and value <= K) or (isinstance(value, str)):\n",
    "        result_dict[key] = value\n",
    "\n",
    "print(result_dict)\n"
   ]
  },
  {
   "cell_type": "markdown",
   "id": "f143f0fe",
   "metadata": {},
   "source": [
    "**42-Write a Python program to concatenate the following dictionaries to create a new one\n",
    "\n",
    "Sample Dictionary :\n",
    "dic1={1:10, 2:20}\n",
    "dic2={3:30, 4:40}\n",
    "dic3={5:50,6:60}\n",
    "Expected Result : {1: 10, 2: 20, 3: 30, 4: 40, 5: 50, 6: 60}"
   ]
  },
  {
   "cell_type": "code",
   "execution_count": 115,
   "id": "74ffdfea",
   "metadata": {},
   "outputs": [
    {
     "name": "stdout",
     "output_type": "stream",
     "text": [
      "{1: 10, 2: 20, 3: 30, 4: 40, 5: 50, 6: 60}\n"
     ]
    }
   ],
   "source": [
    "dic1 = {1: 10, 2: 20}\n",
    "dic2 = {3: 30, 4: 40}\n",
    "dic3 = {5: 50, 6: 60}\n",
    "result_dict = {}\n",
    "result_dict.update(dic1)\n",
    "result_dict.update(dic2)\n",
    "result_dict.update(dic3)\n",
    "\n",
    "print(result_dict)"
   ]
  },
  {
   "cell_type": "markdown",
   "id": "fb04c93c",
   "metadata": {},
   "source": [
    "**43-Write a Python program to iterate over dictionaries using for loops"
   ]
  },
  {
   "cell_type": "code",
   "execution_count": 116,
   "id": "6aebc470",
   "metadata": {},
   "outputs": [
    {
     "name": "stdout",
     "output_type": "stream",
     "text": [
      "a\n",
      "b\n",
      "c\n"
     ]
    }
   ],
   "source": [
    "my_dict = {'a': 1, 'b': 2, 'c': 3}\n",
    "for key in my_dict:\n",
    "    print(key)"
   ]
  },
  {
   "cell_type": "markdown",
   "id": "5f491a9d",
   "metadata": {},
   "source": [
    "**44- Write a Python script to merge two Python dictionaries"
   ]
  },
  {
   "cell_type": "code",
   "execution_count": 117,
   "id": "b8a14028",
   "metadata": {},
   "outputs": [
    {
     "name": "stdout",
     "output_type": "stream",
     "text": [
      "{'a': 1, 'b': 2, 'c': 3, 'd': 4}\n"
     ]
    }
   ],
   "source": [
    "dict1 = {'a': 1, 'b': 2}\n",
    "dict2 = {'c': 3, 'd': 4}\n",
    "dict1.update(dict2)\n",
    "\n",
    "print(dict1)"
   ]
  },
  {
   "cell_type": "markdown",
   "id": "216fc72d",
   "metadata": {},
   "source": [
    "**45-Write a Python program to get the maximum and minimum values of a dictionary values"
   ]
  },
  {
   "cell_type": "code",
   "execution_count": 118,
   "id": "d6883f5f",
   "metadata": {},
   "outputs": [
    {
     "name": "stdout",
     "output_type": "stream",
     "text": [
      "Maximum value: 20\n",
      "Minimum value: 5\n"
     ]
    }
   ],
   "source": [
    "my_dict = {'a': 10, 'b': 5, 'c': 20, 'd': 15}\n",
    "max_value = max(my_dict.values())\n",
    "min_value = min(my_dict.values())\n",
    "\n",
    "print(\"Maximum value:\", max_value)\n",
    "print(\"Minimum value:\", min_value)\n"
   ]
  },
  {
   "cell_type": "markdown",
   "id": "b6a53011",
   "metadata": {},
   "source": [
    "**46- Write a Python program to drop empty items from a given dictionary.\n",
    "Original Dictionary:\n",
    "{'c1': 'Red', 'c2': 'Green', 'c3': None}\n",
    "New Dictionary after dropping empty items:\n",
    "{'c1': 'Red', 'c2': 'Green'}"
   ]
  },
  {
   "cell_type": "code",
   "execution_count": null,
   "id": "b5c6fecf",
   "metadata": {},
   "outputs": [],
   "source": []
  },
  {
   "cell_type": "markdown",
   "id": "46d718c7",
   "metadata": {},
   "source": [
    "**47-Write a Python program to create a tuple of numbers and print one item"
   ]
  },
  {
   "cell_type": "code",
   "execution_count": 119,
   "id": "13216ff5",
   "metadata": {},
   "outputs": [
    {
     "name": "stdout",
     "output_type": "stream",
     "text": [
      "One item from the tuple: 1\n"
     ]
    }
   ],
   "source": [
    "my_tuple = (1, 2, 3, 4, 5)\n",
    "\n",
    "print(\"One item from the tuple:\", my_tuple[0])"
   ]
  },
  {
   "cell_type": "markdown",
   "id": "2be5b56b",
   "metadata": {},
   "source": [
    "**48-Write a Python program to unpack a tuple into several variables"
   ]
  },
  {
   "cell_type": "code",
   "execution_count": 4,
   "id": "595f44be",
   "metadata": {},
   "outputs": [
    {
     "name": "stdout",
     "output_type": "stream",
     "text": [
      "my name is ahmed\n",
      "my age is  21\n",
      "i am from  giza\n"
     ]
    }
   ],
   "source": [
    "mytuple=(\"ahmed\",21,\"giza\")\n",
    "a=mytuple[0]\n",
    "b=mytuple[1]\n",
    "c=mytuple[2]\n",
    "print(\"my name is\", a)\n",
    "print(\"my age is \", b)\n",
    "print(\"i am from \",c)"
   ]
  },
  {
   "cell_type": "markdown",
   "id": "392388a7",
   "metadata": {},
   "source": [
    "**49-Write a Python program to add an item to a tuple"
   ]
  },
  {
   "cell_type": "code",
   "execution_count": 11,
   "id": "54cc092e",
   "metadata": {},
   "outputs": [
    {
     "name": "stdout",
     "output_type": "stream",
     "text": [
      "final tuple (1, 2, 3, 4, 5, 6)\n"
     ]
    }
   ],
   "source": [
    "tup= (1,2,3,4,5)\n",
    "addnumber = 6\n",
    "finaltup = tup + (addnumber,)\n",
    "print(\"final tuple\",finaltup)"
   ]
  },
  {
   "cell_type": "markdown",
   "id": "3e8fd124",
   "metadata": {},
   "source": [
    "**50-Write a Python program to convert a tuple to a string"
   ]
  },
  {
   "cell_type": "code",
   "execution_count": null,
   "id": "a8dbd9a2",
   "metadata": {},
   "outputs": [],
   "source": []
  },
  {
   "cell_type": "code",
   "execution_count": null,
   "id": "92a71ddc",
   "metadata": {},
   "outputs": [],
   "source": []
  },
  {
   "cell_type": "markdown",
   "id": "f4f64ef4",
   "metadata": {},
   "source": [
    "**51-Write a Python program to convert a list to a tuple"
   ]
  },
  {
   "cell_type": "code",
   "execution_count": 16,
   "id": "210d56d3",
   "metadata": {},
   "outputs": [
    {
     "name": "stdout",
     "output_type": "stream",
     "text": [
      "[1, 2, 3, 4, 5]\n"
     ]
    }
   ],
   "source": [
    "tup=(1,2,3,4,5)\n",
    "l=[]\n",
    "for i in tup:\n",
    "    l.append(i)\n",
    "print(l)"
   ]
  },
  {
   "cell_type": "markdown",
   "id": "b1e00ef7",
   "metadata": {},
   "source": [
    "**52-Write a Python program to reverse a tuple"
   ]
  },
  {
   "cell_type": "code",
   "execution_count": 20,
   "id": "f45bfdc7",
   "metadata": {},
   "outputs": [
    {
     "data": {
      "text/plain": [
       "(5, 4, 3, 2, 1)"
      ]
     },
     "execution_count": 20,
     "metadata": {},
     "output_type": "execute_result"
    }
   ],
   "source": [
    "tup=(1,2,3,4,5)\n",
    "tup[::-1]"
   ]
  },
  {
   "cell_type": "markdown",
   "id": "3cd347d1",
   "metadata": {},
   "source": [
    "**53-Write a Python program to replace the last value of tuples in a list.\n",
    "Sample list: [(10, 20, 40), (40, 50, 60), (70, 80, 90)]\n",
    "Expected Output: [(10, 20, 100), (40, 50, 100), (70, 80, 100)]"
   ]
  },
  {
   "cell_type": "code",
   "execution_count": 25,
   "id": "35a3cf90",
   "metadata": {},
   "outputs": [
    {
     "name": "stdout",
     "output_type": "stream",
     "text": [
      "Modified list of tuples: [(10, 20, 100), (40, 50, 100), (70, 80, 100)]\n"
     ]
    }
   ],
   "source": [
    "\n",
    "sample_list = [(10, 20, 40), (40, 50, 60), (70, 80, 90)]\n",
    "replacement_value = 100\n",
    "modified_list = [tuple(t[:-1] + (replacement_value,)) for t in sample_list]\n",
    "print(\"Modified list of tuples:\", modified_list)\n"
   ]
  },
  {
   "cell_type": "markdown",
   "id": "76bb7b39",
   "metadata": {},
   "source": [
    "**54-Write a Python program to convert a given string list to a tuple\n",
    "Original string: python 3.0\n",
    "<class 'str'>\n",
    "Convert the said string to a tuple:\n",
    "('p', 'y', 't', 'h', 'o', 'n', '3', '.', '0')"
   ]
  },
  {
   "cell_type": "code",
   "execution_count": 26,
   "id": "51951937",
   "metadata": {},
   "outputs": [
    {
     "name": "stdout",
     "output_type": "stream",
     "text": [
      "Original string: python 3.0 <class 'str'>\n",
      "Converted tuple: ('p', 'y', 't', 'h', 'o', 'n', ' ', '3', '.', '0', ' ', '<', 'c', 'l', 'a', 's', 's', ' ', \"'\", 's', 't', 'r', \"'\", '>')\n"
     ]
    }
   ],
   "source": [
    "original_string = \"python 3.0 <class 'str'>\"\n",
    "result_tuple = tuple()\n",
    "for char in original_string:\n",
    "    result_tuple += (char,)\n",
    "print(\"Original string:\", original_string)\n",
    "print(\"Converted tuple:\", result_tuple)\n"
   ]
  },
  {
   "cell_type": "markdown",
   "id": "5a1d5d97",
   "metadata": {},
   "source": [
    "**55-Write a Python program to calculate the average value of the numbers in a given tuple of tuples"
   ]
  },
  {
   "cell_type": "code",
   "execution_count": 27,
   "id": "834e7992",
   "metadata": {},
   "outputs": [
    {
     "name": "stdout",
     "output_type": "stream",
     "text": [
      "Given tuple of tuples: ((10, 20, 30), (40, 50, 60), (70, 80, 90))\n",
      "Average value of the numbers: 50.0\n"
     ]
    }
   ],
   "source": [
    "\n",
    "given_tuple = ((10, 20, 30), (40, 50, 60), (70, 80, 90))\n",
    "total_sum = 0\n",
    "total_count = 0\n",
    "for inner_tuple in given_tuple:\n",
    "    for number in inner_tuple:\n",
    "        total_sum += number\n",
    "        total_count += 1\n",
    "\n",
    "if total_count > 0:\n",
    "    average = total_sum / total_count\n",
    "else:\n",
    "    average = 0\n",
    "\n",
    "print(\"Given tuple of tuples:\", given_tuple)\n",
    "print(\"Average value of the numbers:\", average)\n"
   ]
  },
  {
   "cell_type": "markdown",
   "id": "51edab9c",
   "metadata": {},
   "source": [
    "**56-Write a Python program to add member(s) to a set."
   ]
  },
  {
   "cell_type": "code",
   "execution_count": 28,
   "id": "2b65df79",
   "metadata": {},
   "outputs": [
    {
     "name": "stdout",
     "output_type": "stream",
     "text": [
      "Updated set: {1, 2, 3, 4, 5, 6}\n"
     ]
    }
   ],
   "source": [
    "\n",
    "my_set = {1, 2, 3}\n",
    "\n",
    "\n",
    "my_set.add(4)\n",
    "\n",
    "\n",
    "my_set.update({5, 6})\n",
    "\n",
    "\n",
    "print(\"Updated set:\", my_set)\n"
   ]
  },
  {
   "cell_type": "markdown",
   "id": "965590cc",
   "metadata": {},
   "source": [
    "**57-Write a Python program to remove an item from a set if it is present in the set."
   ]
  },
  {
   "cell_type": "code",
   "execution_count": 29,
   "id": "866bab28",
   "metadata": {},
   "outputs": [
    {
     "name": "stdout",
     "output_type": "stream",
     "text": [
      "Updated set: {1, 2, 4, 5}\n"
     ]
    }
   ],
   "source": [
    "\n",
    "my_set = {1, 2, 3, 4, 5}\n",
    "\n",
    "\n",
    "item_to_remove = 3\n",
    "\n",
    "\n",
    "my_set.discard(item_to_remove)\n",
    "\n",
    "\n",
    "print(\"Updated set:\", my_set)\n"
   ]
  },
  {
   "cell_type": "markdown",
   "id": "2b7cfed1",
   "metadata": {},
   "source": [
    "**58-Write a Python program to create an intersection,union,difference and symmetric difference of sets"
   ]
  },
  {
   "cell_type": "code",
   "execution_count": 30,
   "id": "7f94b7fe",
   "metadata": {},
   "outputs": [
    {
     "name": "stdout",
     "output_type": "stream",
     "text": [
      "Set 1: {1, 2, 3, 4, 5}\n",
      "Set 2: {4, 5, 6, 7, 8}\n",
      "Intersection: {4, 5}\n",
      "Union: {1, 2, 3, 4, 5, 6, 7, 8}\n",
      "Difference (Set1 - Set2): {1, 2, 3}\n",
      "Symmetric Difference: {1, 2, 3, 6, 7, 8}\n"
     ]
    }
   ],
   "source": [
    "\n",
    "set1 = {1, 2, 3, 4, 5}\n",
    "set2 = {4, 5, 6, 7, 8}\n",
    "\n",
    "\n",
    "intersection_result = set1 & set2\n",
    "\n",
    "\n",
    "union_result = set1 | set2\n",
    "\n",
    "\n",
    "difference_result = set1 - set2\n",
    "\n",
    "\n",
    "symmetric_difference_result = set1 ^ set2\n",
    "\n",
    "\n",
    "print(\"Set 1:\", set1)\n",
    "print(\"Set 2:\", set2)\n",
    "print(\"Intersection:\", intersection_result)\n",
    "print(\"Union:\", union_result)\n",
    "print(\"Difference (Set1 - Set2):\", difference_result)\n",
    "print(\"Symmetric Difference:\", symmetric_difference_result)\n"
   ]
  },
  {
   "cell_type": "markdown",
   "id": "b94931e2",
   "metadata": {},
   "source": [
    "**59-Write a Python program to find the maximum and minimum values in a set"
   ]
  },
  {
   "cell_type": "code",
   "execution_count": null,
   "id": "4069dbb6",
   "metadata": {},
   "outputs": [],
   "source": [
    "Set: {10, 20, 50, 80, 30}"
   ]
  },
  {
   "cell_type": "code",
   "execution_count": 34,
   "id": "2eb18347",
   "metadata": {},
   "outputs": [
    {
     "data": {
      "text/plain": [
       "80"
      ]
     },
     "execution_count": 34,
     "metadata": {},
     "output_type": "execute_result"
    }
   ],
   "source": [
    "\n",
    "max(my_set)\n"
   ]
  },
  {
   "cell_type": "code",
   "execution_count": 35,
   "id": "854aa917",
   "metadata": {},
   "outputs": [
    {
     "data": {
      "text/plain": [
       "10"
      ]
     },
     "execution_count": 35,
     "metadata": {},
     "output_type": "execute_result"
    }
   ],
   "source": [
    "min(my_set)"
   ]
  },
  {
   "cell_type": "markdown",
   "id": "255fd554",
   "metadata": {},
   "source": [
    "**60- Write a Python program that finds all pairs of elements in a list whose sum is equal to a given value."
   ]
  },
  {
   "cell_type": "code",
   "execution_count": null,
   "id": "c2d94e1f",
   "metadata": {},
   "outputs": [],
   "source": []
  }
 ],
 "metadata": {
  "kernelspec": {
   "display_name": "Python 3 (ipykernel)",
   "language": "python",
   "name": "python3"
  },
  "language_info": {
   "codemirror_mode": {
    "name": "ipython",
    "version": 3
   },
   "file_extension": ".py",
   "mimetype": "text/x-python",
   "name": "python",
   "nbconvert_exporter": "python",
   "pygments_lexer": "ipython3",
   "version": "3.11.3"
  }
 },
 "nbformat": 4,
 "nbformat_minor": 5
}
